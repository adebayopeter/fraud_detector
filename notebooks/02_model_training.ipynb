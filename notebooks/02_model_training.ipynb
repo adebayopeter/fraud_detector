{
 "cells": [
  {
   "cell_type": "markdown",
   "id": "54291cae-bb8b-4845-b5d7-f05a0aebeef4",
   "metadata": {},
   "source": [
    "# 📦 Import Modules"
   ]
  },
  {
   "cell_type": "code",
   "execution_count": 1,
   "id": "cb583921-5444-443c-8c6f-c668616b2eec",
   "metadata": {},
   "outputs": [],
   "source": [
    "import numpy as np\n",
    "import torch\n",
    "import torch.nn as nn\n",
    "import torch.optim as optim\n",
    "from torch.utils.data import TensorDataset, DataLoader\n",
    "from sklearn.metrics import classification_report, confusion_matrix, roc_auc_score"
   ]
  },
  {
   "cell_type": "markdown",
   "id": "cdd6632c-b68d-478d-be6e-160dd7896570",
   "metadata": {},
   "source": [
    "# 🗃️ Load preprocessed data"
   ]
  },
  {
   "cell_type": "code",
   "execution_count": 2,
   "id": "62f282d4-5ed3-4657-b483-6bf1c2e0553d",
   "metadata": {},
   "outputs": [],
   "source": [
    "X_train = np.load('../data/processed/X_train.npy')\n",
    "X_test = np.load('../data/processed/X_test.npy')\n",
    "y_train = np.load('../data/processed/y_train.npy')\n",
    "y_test = np.load('../data/processed/y_test.npy')"
   ]
  },
  {
   "cell_type": "markdown",
   "id": "9a4210d9-8e0f-4b4f-8904-7ee0b150cf87",
   "metadata": {},
   "source": [
    "# 🔄 Convert to tensors"
   ]
  },
  {
   "cell_type": "code",
   "execution_count": 3,
   "id": "305d47b3-ef0c-4fca-a806-a6f0210787dc",
   "metadata": {},
   "outputs": [],
   "source": [
    "X_train_tensor = torch.tensor(X_train, dtype=torch.float32)\n",
    "X_test_tensor = torch.tensor(X_test, dtype=torch.float32)\n",
    "y_train_tensor = torch.tensor(y_train, dtype=torch.float32).unsqueeze(1)\n",
    "y_test_tensor = torch.tensor(y_test, dtype=torch.float32).unsqueeze(1)"
   ]
  },
  {
   "cell_type": "code",
   "execution_count": 4,
   "id": "847f6593-af49-4530-9c38-6766cd29a067",
   "metadata": {},
   "outputs": [],
   "source": [
    "train_dataset = TensorDataset(X_train_tensor, y_train_tensor)\n",
    "train_loader = DataLoader(train_dataset, batch_size=64, shuffle=True)"
   ]
  },
  {
   "cell_type": "markdown",
   "id": "7d347662-1d29-4228-9884-e43e9c58d370",
   "metadata": {},
   "source": [
    "# 🧠 Define model"
   ]
  },
  {
   "cell_type": "code",
   "execution_count": 5,
   "id": "51ff7563-6b4d-4f17-9f03-b3f9515e9ff8",
   "metadata": {},
   "outputs": [],
   "source": [
    "class FraudNet(nn.Module):\n",
    "    def __init__(self, input_dim):\n",
    "        super(FraudNet, self).__init__()\n",
    "        self.model = nn.Sequential(\n",
    "            nn.Linear(input_dim, 32),\n",
    "            nn.ReLU(),\n",
    "            nn.Dropout(0.2),\n",
    "            nn.Linear(32, 16),\n",
    "            nn.ReLU(),\n",
    "            nn.Dropout(0.2),\n",
    "            nn.Linear(16, 1),\n",
    "            nn.Sigmoid()\n",
    "        )\n",
    "    def forward(self, x):\n",
    "        return self.model(x)"
   ]
  },
  {
   "cell_type": "code",
   "execution_count": 6,
   "id": "ab048016-a328-4219-85cd-69e7bc072285",
   "metadata": {},
   "outputs": [],
   "source": [
    "model = FraudNet(X_train.shape[1])\n",
    "criterion = nn.BCELoss()\n",
    "optimizer = optim.Adam(model.parameters(), lr=0.001)"
   ]
  },
  {
   "cell_type": "markdown",
   "id": "f74462f6-7924-487d-b752-a678d6ccef53",
   "metadata": {},
   "source": [
    "# 🚀 Training loop"
   ]
  },
  {
   "cell_type": "code",
   "execution_count": 7,
   "id": "e01b321b-63dc-4230-8d7b-55ea0411816b",
   "metadata": {},
   "outputs": [
    {
     "name": "stdout",
     "output_type": "stream",
     "text": [
      "Epoch [1/10], Loss: 0.5946\n",
      "Epoch [2/10], Loss: 0.5298\n",
      "Epoch [3/10], Loss: 0.4813\n",
      "Epoch [4/10], Loss: 0.4073\n",
      "Epoch [5/10], Loss: 0.2814\n",
      "Epoch [6/10], Loss: 0.3541\n",
      "Epoch [7/10], Loss: 0.4065\n",
      "Epoch [8/10], Loss: 0.3352\n",
      "Epoch [9/10], Loss: 0.3429\n",
      "Epoch [10/10], Loss: 0.2735\n"
     ]
    }
   ],
   "source": [
    "epochs = 10\n",
    "for epoch in range(epochs):\n",
    "    model.train()\n",
    "    for batch_X, batch_y in train_loader:\n",
    "        optimizer.zero_grad()\n",
    "        outputs = model(batch_X)\n",
    "        loss = criterion(outputs, batch_y)\n",
    "        loss.backward()\n",
    "        optimizer.step()\n",
    "    print(f\"Epoch [{epoch+1}/{epochs}], Loss: {loss.item():.4f}\")"
   ]
  },
  {
   "cell_type": "markdown",
   "id": "3bdbe59e-5863-463b-ac69-3d2c32be07fe",
   "metadata": {},
   "source": [
    "# 📊 Evaluation"
   ]
  },
  {
   "cell_type": "code",
   "execution_count": 8,
   "id": "2437f9c1-95ad-4432-9f5b-efdaf6a6fc3a",
   "metadata": {},
   "outputs": [],
   "source": [
    "model.eval()\n",
    "with torch.no_grad():\n",
    "    y_pred = model(X_test_tensor).numpy()\n",
    "    y_pred_class = (y_pred > 0.5).astype(int)"
   ]
  },
  {
   "cell_type": "code",
   "execution_count": 9,
   "id": "ae58ec45-de24-45e2-bff7-ab48aaeaea9c",
   "metadata": {},
   "outputs": [
    {
     "name": "stdout",
     "output_type": "stream",
     "text": [
      "\n",
      "✅ Confusion Matrix:\n",
      "[[145   5]\n",
      " [ 14 132]]\n"
     ]
    }
   ],
   "source": [
    "print(\"\\n✅ Confusion Matrix:\")\n",
    "print(confusion_matrix(y_test, y_pred_class))"
   ]
  },
  {
   "cell_type": "code",
   "execution_count": 10,
   "id": "6260b138-c996-4417-bb51-8e9dcff8c321",
   "metadata": {},
   "outputs": [
    {
     "name": "stdout",
     "output_type": "stream",
     "text": [
      "\n",
      "✅ Classification Report:\n",
      "              precision    recall  f1-score   support\n",
      "\n",
      "           0     0.9119    0.9667    0.9385       150\n",
      "           1     0.9635    0.9041    0.9329       146\n",
      "\n",
      "    accuracy                         0.9358       296\n",
      "   macro avg     0.9377    0.9354    0.9357       296\n",
      "weighted avg     0.9374    0.9358    0.9357       296\n",
      "\n"
     ]
    }
   ],
   "source": [
    "print(\"\\n✅ Classification Report:\")\n",
    "print(classification_report(y_test, y_pred_class, digits=4))"
   ]
  },
  {
   "cell_type": "code",
   "execution_count": 11,
   "id": "183ad213-0104-4d1f-88c4-9ae534e7bd2c",
   "metadata": {},
   "outputs": [
    {
     "name": "stdout",
     "output_type": "stream",
     "text": [
      "\n",
      "✅ ROC AUC Score:\n",
      "0.9525570776255707\n"
     ]
    }
   ],
   "source": [
    "print(\"\\n✅ ROC AUC Score:\")\n",
    "print(roc_auc_score(y_test, y_pred))"
   ]
  },
  {
   "cell_type": "markdown",
   "id": "3eea8d56-1ded-423d-99a8-9a416a35c623",
   "metadata": {},
   "source": [
    "# 💾 Save trained model"
   ]
  },
  {
   "cell_type": "code",
   "execution_count": 12,
   "id": "a06976f0-cb90-48aa-9870-8bc8fffe0052",
   "metadata": {},
   "outputs": [
    {
     "name": "stdout",
     "output_type": "stream",
     "text": [
      "✅ Model saved as fraud_model.pth\n"
     ]
    }
   ],
   "source": [
    "torch.save(model.state_dict(), '../app/models/fraud_model.pth')\n",
    "print(\"✅ Model saved as fraud_model.pth\")"
   ]
  },
  {
   "cell_type": "code",
   "execution_count": null,
   "id": "95a2e460-37c3-4384-ad5b-b6387b734758",
   "metadata": {},
   "outputs": [],
   "source": []
  }
 ],
 "metadata": {
  "kernelspec": {
   "display_name": "Python 3 (ipykernel)",
   "language": "python",
   "name": "python3"
  },
  "language_info": {
   "codemirror_mode": {
    "name": "ipython",
    "version": 3
   },
   "file_extension": ".py",
   "mimetype": "text/x-python",
   "name": "python",
   "nbconvert_exporter": "python",
   "pygments_lexer": "ipython3",
   "version": "3.11.5"
  }
 },
 "nbformat": 4,
 "nbformat_minor": 5
}
